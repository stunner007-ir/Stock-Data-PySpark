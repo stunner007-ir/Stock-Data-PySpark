{
 "cells": [
  {
   "cell_type": "code",
   "execution_count": 1,
   "metadata": {},
   "outputs": [],
   "source": [
    "import pyspark"
   ]
  },
  {
   "cell_type": "code",
   "execution_count": 2,
   "metadata": {},
   "outputs": [],
   "source": [
    "from pyspark.sql import SparkSession"
   ]
  },
  {
   "cell_type": "code",
   "execution_count": 5,
   "metadata": {},
   "outputs": [
    {
     "name": "stderr",
     "output_type": "stream",
     "text": [
      "24/11/12 10:29:58 WARN SparkSession: Using an existing Spark session; only runtime SQL configurations will take effect.\n"
     ]
    }
   ],
   "source": [
    "spark = SparkSession.builder.appName(\"Stock Price Analysis\").getOrCreate()"
   ]
  },
  {
   "cell_type": "code",
   "execution_count": 8,
   "metadata": {},
   "outputs": [],
   "source": [
    "## Reading CSV data\n",
    "stocks = spark.read.csv(\"StockData\", header=True)"
   ]
  },
  {
   "cell_type": "code",
   "execution_count": 9,
   "metadata": {},
   "outputs": [
    {
     "name": "stdout",
     "output_type": "stream",
     "text": [
      "+------+----------+----------+-------+--------+--------+--------+\n",
      "|Ticker|      Date|Close/Last| Volume|    Open|    High|     Low|\n",
      "+------+----------+----------+-------+--------+--------+--------+\n",
      "| BRK-B|05/31/2023|  $321.08 |6175417|$321.12 |$322.41 |$319.39 |\n",
      "| BRK-B|05/30/2023|  $322.19 |3232461|$321.86 |$322.47 |$319.00 |\n",
      "| BRK-B|05/26/2023|  $320.60 |3229873|$320.44 |$322.63 |$319.67 |\n",
      "| BRK-B|05/25/2023|  $319.02 |4251935|$320.56 |$320.56 |$317.71 |\n",
      "| BRK-B|05/24/2023|  $320.20 |3075393|$322.71 |$323.00 |$319.56 |\n",
      "| BRK-B|05/23/2023|  $323.11 |4031342|$328.19 |$329.27 |$322.97 |\n",
      "| BRK-B|05/22/2023|  $329.13 |2763422|$330.75 |$331.49 |$328.35 |\n",
      "| BRK-B|05/19/2023|  $330.39 |4323538|$331.00 |$333.94 |$329.12 |\n",
      "| BRK-B|05/18/2023|  $329.76 |2808329|$326.87 |$329.98 |$325.85 |\n",
      "| BRK-B|05/17/2023|  $327.39 |3047626|$325.02 |$328.26 |$324.82 |\n",
      "| BRK-B|05/16/2023|  $323.75 |2139996|$322.46 |$324.69 |$322.36 |\n",
      "| BRK-B|05/15/2023|  $323.53 |2191609|$322.89 |$323.83 |$320.13 |\n",
      "| BRK-B|05/12/2023|  $322.49 |1938264|$323.82 |$324.24 |$320.54 |\n",
      "| BRK-B|05/11/2023|  $322.64 |2549339|$321.00 |$322.96 |$319.81 |\n",
      "| BRK-B|05/10/2023|  $322.99 |2641134|$326.08 |$326.16 |$320.15 |\n",
      "| BRK-B|05/09/2023|  $324.87 |2285924|$324.87 |$326.88 |$323.48 |\n",
      "| BRK-B|05/08/2023|  $326.14 |3303393|$328.26 |$330.69 |$325.79 |\n",
      "| BRK-B|05/05/2023|  $323.88 |3876299|$323.36 |$325.16 |$322.62 |\n",
      "| BRK-B|05/04/2023|  $320.00 |3194768|$323.44 |$325.99 |$317.41 |\n",
      "| BRK-B|05/03/2023|  $323.22 |2660456|$327.13 |$328.07 |$323.06 |\n",
      "+------+----------+----------+-------+--------+--------+--------+\n",
      "only showing top 20 rows\n",
      "\n"
     ]
    }
   ],
   "source": [
    "stocks.show()"
   ]
  },
  {
   "cell_type": "code",
   "execution_count": 10,
   "metadata": {},
   "outputs": [
    {
     "name": "stdout",
     "output_type": "stream",
     "text": [
      "root\n",
      " |-- Ticker: string (nullable = true)\n",
      " |-- Date: string (nullable = true)\n",
      " |-- Close/Last: string (nullable = true)\n",
      " |-- Volume: string (nullable = true)\n",
      " |-- Open: string (nullable = true)\n",
      " |-- High: string (nullable = true)\n",
      " |-- Low: string (nullable = true)\n",
      "\n"
     ]
    }
   ],
   "source": [
    "stocks.printSchema()"
   ]
  },
  {
   "cell_type": "code",
   "execution_count": 11,
   "metadata": {},
   "outputs": [
    {
     "name": "stdout",
     "output_type": "stream",
     "text": [
      "+------+\n",
      "|Ticker|\n",
      "+------+\n",
      "| BRK-B|\n",
      "| BRK-B|\n",
      "| BRK-B|\n",
      "| BRK-B|\n",
      "| BRK-B|\n",
      "+------+\n",
      "only showing top 5 rows\n",
      "\n"
     ]
    }
   ],
   "source": [
    "stocks.select(\"Ticker\").show(5)"
   ]
  },
  {
   "cell_type": "code",
   "execution_count": 12,
   "metadata": {},
   "outputs": [
    {
     "name": "stdout",
     "output_type": "stream",
     "text": [
      "+------+----------+--------+\n",
      "|Ticker|      Date|    Open|\n",
      "+------+----------+--------+\n",
      "| BRK-B|05/31/2023|$321.12 |\n",
      "| BRK-B|05/30/2023|$321.86 |\n",
      "| BRK-B|05/26/2023|$320.44 |\n",
      "| BRK-B|05/25/2023|$320.56 |\n",
      "| BRK-B|05/24/2023|$322.71 |\n",
      "+------+----------+--------+\n",
      "only showing top 5 rows\n",
      "\n"
     ]
    }
   ],
   "source": [
    "stocks.select(\"Ticker\",\"Date\",\"Open\").show(5)"
   ]
  },
  {
   "cell_type": "code",
   "execution_count": 13,
   "metadata": {},
   "outputs": [
    {
     "name": "stdout",
     "output_type": "stream",
     "text": [
      "+------+----------+----------+--------+--------+--------+--------+\n",
      "|Ticker|      Date|Close/Last|  Volume|    Open|    High|     Low|\n",
      "+------+----------+----------+--------+--------+--------+--------+\n",
      "|  MSFT|05/31/2023|  $328.39 |45950550|$332.29 |$335.94 |$327.33 |\n",
      "|  MSFT|05/30/2023|  $331.21 |29503070|$335.23 |$335.74 |$330.52 |\n",
      "|  MSFT|05/26/2023|  $332.89 |36630630|$324.02 |$333.40 |$323.88 |\n",
      "|  MSFT|05/25/2023|  $325.92 |43301740|$323.24 |$326.90 |$320.00 |\n",
      "|  MSFT|05/24/2023|  $313.85 |23384890|$314.73 |$316.50 |$312.61 |\n",
      "|  MSFT|05/23/2023|  $315.26 |30797170|$320.03 |$322.72 |$315.25 |\n",
      "|  MSFT|05/22/2023|  $321.18 |24115660|$318.60 |$322.59 |$318.01 |\n",
      "|  MSFT|05/19/2023|  $318.34 |27546700|$316.74 |$318.75 |$316.37 |\n",
      "|  MSFT|05/18/2023|  $318.52 |27275990|$314.53 |$319.04 |$313.72 |\n",
      "|  MSFT|05/17/2023|  $314.00 |24315010|$312.29 |$314.43 |$310.74 |\n",
      "+------+----------+----------+--------+--------+--------+--------+\n",
      "only showing top 10 rows\n",
      "\n"
     ]
    }
   ],
   "source": [
    "stocks.filter(stocks.Ticker == \"MSFT\").show(10)"
   ]
  },
  {
   "cell_type": "code",
   "execution_count": 14,
   "metadata": {},
   "outputs": [
    {
     "name": "stdout",
     "output_type": "stream",
     "text": [
      "+------+----------+----------+--------+--------+--------+--------+\n",
      "|Ticker|      Date|Close/Last|  Volume|    Open|    High|     Low|\n",
      "+------+----------+----------+--------+--------+--------+--------+\n",
      "|  MSFT|05/31/2023|  $328.39 |45950550|$332.29 |$335.94 |$327.33 |\n",
      "+------+----------+----------+--------+--------+--------+--------+\n",
      "\n"
     ]
    }
   ],
   "source": [
    "stocks.filter((stocks.Ticker == \"MSFT\") & (stocks.Date == \"05/31/2023\")).show()"
   ]
  },
  {
   "cell_type": "code",
   "execution_count": 15,
   "metadata": {},
   "outputs": [
    {
     "name": "stdout",
     "output_type": "stream",
     "text": [
      "+------+----------+----------+---------+--------+--------+--------+\n",
      "|Ticker|      Date|Close/Last|   Volume|    Open|    High|     Low|\n",
      "+------+----------+----------+---------+--------+--------+--------+\n",
      "|  MSFT|05/31/2023|  $328.39 | 45950550|$332.29 |$335.94 |$327.33 |\n",
      "|  TSLA|05/31/2023|  $203.93 |150711700|$199.78 |$203.95 |$195.12 |\n",
      "|     V|05/31/2023|  $221.03 | 20460620|$219.96 |$221.53 |$216.14 |\n",
      "|   SPY|05/31/2023|    417.85|110811800|  418.28|  419.22|  416.22|\n",
      "|   QQQ|05/31/2023|    347.99| 65105380|  348.37|   350.6|  346.51|\n",
      "+------+----------+----------+---------+--------+--------+--------+\n",
      "\n"
     ]
    }
   ],
   "source": [
    "stocks.filter((stocks.Ticker.isin([\"MSFT\",\"QQQ\",\"SPY\",\"V\",\"TSLA\"])) & (stocks.Date == \"05/31/2023\")).show(15)"
   ]
  },
  {
   "cell_type": "code",
   "execution_count": 16,
   "metadata": {},
   "outputs": [
    {
     "name": "stdout",
     "output_type": "stream",
     "text": [
      "root\n",
      " |-- Ticker: string (nullable = true)\n",
      " |-- Date: string (nullable = true)\n",
      " |-- Close/Last: string (nullable = true)\n",
      " |-- Volume: string (nullable = true)\n",
      " |-- Open: string (nullable = true)\n",
      " |-- High: string (nullable = true)\n",
      " |-- Low: string (nullable = true)\n",
      "\n"
     ]
    }
   ],
   "source": [
    "## Change Datatype of Columns\n",
    "stocks.printSchema()"
   ]
  },
  {
   "cell_type": "code",
   "execution_count": 42,
   "metadata": {},
   "outputs": [],
   "source": [
    "from pyspark.sql.functions import udf\n",
    "from pyspark.sql.types import DateType, FloatType\n",
    "from datetime import datetime"
   ]
  },
  {
   "cell_type": "code",
   "execution_count": 43,
   "metadata": {},
   "outputs": [],
   "source": [
    "## Convert String to Date Type\n",
    "date_parser = udf(lambda date: datetime.strptime(date,\"%m/%d/%Y\"), DateType())"
   ]
  },
  {
   "cell_type": "code",
   "execution_count": 44,
   "metadata": {},
   "outputs": [],
   "source": [
    "stocks = stocks.withColumn(\"ParsedDate\", date_parser(stocks.Date))"
   ]
  },
  {
   "cell_type": "code",
   "execution_count": 45,
   "metadata": {},
   "outputs": [
    {
     "name": "stdout",
     "output_type": "stream",
     "text": [
      "root\n",
      " |-- Ticker: string (nullable = true)\n",
      " |-- Date: string (nullable = true)\n",
      " |-- Close/Last: string (nullable = true)\n",
      " |-- Volume: string (nullable = true)\n",
      " |-- Open: string (nullable = true)\n",
      " |-- High: string (nullable = true)\n",
      " |-- Low: string (nullable = true)\n",
      " |-- ParsedDate: date (nullable = true)\n",
      "\n"
     ]
    }
   ],
   "source": [
    "stocks.printSchema()"
   ]
  },
  {
   "cell_type": "code",
   "execution_count": 51,
   "metadata": {},
   "outputs": [],
   "source": [
    "def num_parser(value):\n",
    "    if isinstance(value, str):\n",
    "        return float(value.strip(\"$\"))\n",
    "    elif isinstance(value, int) or isinstance(value, float):\n",
    "        return value\n",
    "    else:\n",
    "        return None\n",
    "\n",
    "number_parser = udf(num_parser, FloatType())\n",
    "    "
   ]
  },
  {
   "cell_type": "code",
   "execution_count": 52,
   "metadata": {},
   "outputs": [
    {
     "ename": "AttributeError",
     "evalue": "'NoneType' object has no attribute 'withColumn'",
     "output_type": "error",
     "traceback": [
      "\u001b[0;31m---------------------------------------------------------------------------\u001b[0m",
      "\u001b[0;31mAttributeError\u001b[0m                            Traceback (most recent call last)",
      "Cell \u001b[0;32mIn[52], line 1\u001b[0m\n\u001b[0;32m----> 1\u001b[0m stocks \u001b[38;5;241m=\u001b[39m \u001b[43mstocks\u001b[49m\u001b[38;5;241;43m.\u001b[39;49m\u001b[43mwithColumn\u001b[49m(\u001b[38;5;124m\"\u001b[39m\u001b[38;5;124mOpen\u001b[39m\u001b[38;5;124m\"\u001b[39m, number_parser(stocks\u001b[38;5;241m.\u001b[39mOpen))\n",
      "\u001b[0;31mAttributeError\u001b[0m: 'NoneType' object has no attribute 'withColumn'"
     ]
    }
   ],
   "source": [
    "stocks = stocks.withColumn(\"Open\", number_parser(stocks.Open))"
   ]
  },
  {
   "cell_type": "code",
   "execution_count": null,
   "metadata": {},
   "outputs": [],
   "source": []
  }
 ],
 "metadata": {
  "kernelspec": {
   "display_name": "venv",
   "language": "python",
   "name": "python3"
  },
  "language_info": {
   "codemirror_mode": {
    "name": "ipython",
    "version": 3
   },
   "file_extension": ".py",
   "mimetype": "text/x-python",
   "name": "python",
   "nbconvert_exporter": "python",
   "pygments_lexer": "ipython3",
   "version": "3.13.0"
  }
 },
 "nbformat": 4,
 "nbformat_minor": 2
}
